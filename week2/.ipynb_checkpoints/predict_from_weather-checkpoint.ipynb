{
 "cells": [
  {
   "cell_type": "code",
   "execution_count": 29,
   "metadata": {},
   "outputs": [],
   "source": [
    "import numpy as np\n",
    "import pandas as pd\n",
    "from datetime import date, timedelta, datetime\n",
    "import matplotlib.pyplot as plt\n",
    "import matplotlib.dates as mdates\n",
    "%matplotlib inline"
   ]
  },
  {
   "cell_type": "markdown",
   "metadata": {},
   "source": [
    "# Create trainable table"
   ]
  },
  {
   "cell_type": "code",
   "execution_count": 192,
   "metadata": {},
   "outputs": [],
   "source": [
    "fire = pd.read_csv(\"../data/Historical_Wildfires.csv\")\n",
    "weather = pd.read_csv(\"../data/HistoricalWeather.csv\")\n",
    "fire[\"Date\"] = pd.to_datetime(fire[\"Date\"])\n",
    "weather[\"Date\"] = pd.to_datetime(weather[\"Date\"])\n",
    "\n",
    "fire = fire[[\"Date\", \"Region\", \"Estimated_fire_area\"]]"
   ]
  },
  {
   "cell_type": "code",
   "execution_count": 193,
   "metadata": {},
   "outputs": [],
   "source": [
    "def format_weather(weather):\n",
    "    weather = weather.rename(columns = {\"count()[unit: km^2]\" : \"count\", \n",
    "                                        \"min()\": \"min\", \n",
    "                                        \"max()\": \"max\",\n",
    "                                        \"mean()\": \"mean\"})\n",
    "    weather = weather.pivot_table(values = [\"count\", \"min\", \"max\", \"mean\"], \n",
    "                                  index = [\"Date\", \"Region\"],\n",
    "                                  columns = [\"Parameter\"])\n",
    "    weather.reset_index(inplace = True)\n",
    "    weather.columns = [col[0] if not(col[1]) else '{1}_{0}'.format(*col) for col in weather.columns.values]\n",
    "    return weather\n",
    "\n",
    "weather = format_weather(weather)"
   ]
  },
  {
   "cell_type": "code",
   "execution_count": 196,
   "metadata": {},
   "outputs": [],
   "source": [
    "regions = list(set(fire[\"Region\"]))\n",
    "\n",
    "for region in regions:\n",
    "    fire_reg = fire[fire[\"Region\"] == region].drop(\"Region\", axis = 1)\n",
    "    weather_reg = weather[weather[\"Region\"] == region].drop(\"Region\", axis = 1)\n",
    "    reg = weather_reg.merge(fire_reg, on = \"Date\")\n",
    "    reg.to_csv(f\"../data/regions/{region}.csv\", index = False)"
   ]
  },
  {
   "cell_type": "code",
   "execution_count": null,
   "metadata": {},
   "outputs": [],
   "source": []
  }
 ],
 "metadata": {
  "kernelspec": {
   "display_name": "Python 3",
   "language": "python",
   "name": "python3"
  },
  "language_info": {
   "codemirror_mode": {
    "name": "ipython",
    "version": 3
   },
   "file_extension": ".py",
   "mimetype": "text/x-python",
   "name": "python",
   "nbconvert_exporter": "python",
   "pygments_lexer": "ipython3",
   "version": "3.8.1"
  }
 },
 "nbformat": 4,
 "nbformat_minor": 4
}
