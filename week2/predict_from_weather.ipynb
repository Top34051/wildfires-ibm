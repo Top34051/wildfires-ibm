{
 "cells": [
  {
   "cell_type": "code",
   "execution_count": 1,
   "metadata": {},
   "outputs": [],
   "source": [
    "import numpy as np\n",
    "import pandas as pd\n",
    "from datetime import date, timedelta, datetime\n",
    "import matplotlib.pyplot as plt\n",
    "import matplotlib.dates as mdates\n",
    "%matplotlib inline"
   ]
  },
  {
   "cell_type": "markdown",
   "metadata": {},
   "source": [
    "# Create table"
   ]
  },
  {
   "cell_type": "code",
   "execution_count": null,
   "metadata": {},
   "outputs": [],
   "source": [
    "fire = pd.read_csv(\"../data/Historical_Wildfires.csv\")\n",
    "weather = pd.read_csv(\"../data/HistoricalWeather.csv\")\n",
    "fire[\"Date\"] = pd.to_datetime(fire[\"Date\"])\n",
    "weather[\"Date\"] = pd.to_datetime(weather[\"Date\"])\n",
    "\n",
    "fire = fire[[\"Date\", \"Region\", \"Estimated_fire_area\"]]"
   ]
  },
  {
   "cell_type": "code",
   "execution_count": null,
   "metadata": {},
   "outputs": [],
   "source": [
    "def format_weather(weather):\n",
    "    weather = weather.rename(columns = {\"count()[unit: km^2]\" : \"count\", \n",
    "                                        \"min()\": \"min\", \n",
    "                                        \"max()\": \"max\",\n",
    "                                        \"mean()\": \"mean\"})\n",
    "    weather = weather.pivot_table(values = [\"max\", \"mean\"], \n",
    "                                  index = [\"Date\", \"Region\"],\n",
    "                                  columns = [\"Parameter\"])\n",
    "    weather.reset_index(inplace = True)\n",
    "    weather.columns = [col[0] if not(col[1]) else '{1}_{0}'.format(*col) for col in weather.columns.values]\n",
    "    return weather\n",
    "\n",
    "weather = format_weather(weather)"
   ]
  },
  {
   "cell_type": "code",
   "execution_count": null,
   "metadata": {},
   "outputs": [],
   "source": [
    "regions = list(set(fire[\"Region\"]))\n",
    "\n",
    "for region in regions:\n",
    "    fire_reg = fire[fire[\"Region\"] == region].drop(\"Region\", axis = 1)\n",
    "    weather_reg = weather[weather[\"Region\"] == region].drop(\"Region\", axis = 1)\n",
    "    reg = weather_reg.merge(fire_reg, on = \"Date\")\n",
    "    reg.to_csv(f\"../data/regions/{region}.csv\", index = False)"
   ]
  },
  {
   "cell_type": "markdown",
   "metadata": {},
   "source": [
    "# Predicting NSW"
   ]
  },
  {
   "cell_type": "code",
   "execution_count": 3,
   "metadata": {},
   "outputs": [
    {
     "data": {
      "text/html": [
       "<div>\n",
       "<style scoped>\n",
       "    .dataframe tbody tr th:only-of-type {\n",
       "        vertical-align: middle;\n",
       "    }\n",
       "\n",
       "    .dataframe tbody tr th {\n",
       "        vertical-align: top;\n",
       "    }\n",
       "\n",
       "    .dataframe thead th {\n",
       "        text-align: right;\n",
       "    }\n",
       "</style>\n",
       "<table border=\"1\" class=\"dataframe\">\n",
       "  <thead>\n",
       "    <tr style=\"text-align: right;\">\n",
       "      <th></th>\n",
       "      <th>Date</th>\n",
       "      <th>Precipitation_max</th>\n",
       "      <th>RelativeHumidity_max</th>\n",
       "      <th>SoilWaterContent_max</th>\n",
       "      <th>SolarRadiation_max</th>\n",
       "      <th>Temperature_max</th>\n",
       "      <th>WindSpeed_max</th>\n",
       "      <th>Precipitation_mean</th>\n",
       "      <th>RelativeHumidity_mean</th>\n",
       "      <th>SoilWaterContent_mean</th>\n",
       "      <th>SolarRadiation_mean</th>\n",
       "      <th>Temperature_mean</th>\n",
       "      <th>WindSpeed_mean</th>\n",
       "      <th>Estimated_fire_area</th>\n",
       "      <th>Month</th>\n",
       "    </tr>\n",
       "  </thead>\n",
       "  <tbody>\n",
       "    <tr>\n",
       "      <th>0</th>\n",
       "      <td>2005-01-04</td>\n",
       "      <td>22.842566</td>\n",
       "      <td>90.332771</td>\n",
       "      <td>0.444927</td>\n",
       "      <td>33.214062</td>\n",
       "      <td>28.945488</td>\n",
       "      <td>7.364222</td>\n",
       "      <td>2.808620</td>\n",
       "      <td>57.095628</td>\n",
       "      <td>0.214293</td>\n",
       "      <td>22.617291</td>\n",
       "      <td>23.055527</td>\n",
       "      <td>4.841764</td>\n",
       "      <td>8.68000</td>\n",
       "      <td>1</td>\n",
       "    </tr>\n",
       "    <tr>\n",
       "      <th>1</th>\n",
       "      <td>2005-01-05</td>\n",
       "      <td>7.657155</td>\n",
       "      <td>88.623436</td>\n",
       "      <td>0.442955</td>\n",
       "      <td>33.554867</td>\n",
       "      <td>29.510120</td>\n",
       "      <td>7.091141</td>\n",
       "      <td>0.157935</td>\n",
       "      <td>47.170735</td>\n",
       "      <td>0.203951</td>\n",
       "      <td>28.076835</td>\n",
       "      <td>22.425765</td>\n",
       "      <td>4.014080</td>\n",
       "      <td>16.61125</td>\n",
       "      <td>1</td>\n",
       "    </tr>\n",
       "    <tr>\n",
       "      <th>2</th>\n",
       "      <td>2005-01-06</td>\n",
       "      <td>27.616505</td>\n",
       "      <td>92.850960</td>\n",
       "      <td>0.431879</td>\n",
       "      <td>34.075787</td>\n",
       "      <td>26.982698</td>\n",
       "      <td>9.905821</td>\n",
       "      <td>0.434833</td>\n",
       "      <td>39.874638</td>\n",
       "      <td>0.193668</td>\n",
       "      <td>30.561703</td>\n",
       "      <td>20.621405</td>\n",
       "      <td>4.477879</td>\n",
       "      <td>5.52000</td>\n",
       "      <td>1</td>\n",
       "    </tr>\n",
       "    <tr>\n",
       "      <th>3</th>\n",
       "      <td>2005-01-07</td>\n",
       "      <td>3.839235</td>\n",
       "      <td>79.103134</td>\n",
       "      <td>0.418513</td>\n",
       "      <td>34.019218</td>\n",
       "      <td>24.752069</td>\n",
       "      <td>10.446799</td>\n",
       "      <td>0.064224</td>\n",
       "      <td>39.279410</td>\n",
       "      <td>0.183778</td>\n",
       "      <td>32.143718</td>\n",
       "      <td>19.632722</td>\n",
       "      <td>4.017578</td>\n",
       "      <td>6.26400</td>\n",
       "      <td>1</td>\n",
       "    </tr>\n",
       "    <tr>\n",
       "      <th>4</th>\n",
       "      <td>2005-01-08</td>\n",
       "      <td>2.866673</td>\n",
       "      <td>83.001541</td>\n",
       "      <td>0.413370</td>\n",
       "      <td>33.265091</td>\n",
       "      <td>26.472469</td>\n",
       "      <td>6.671862</td>\n",
       "      <td>0.203352</td>\n",
       "      <td>42.400824</td>\n",
       "      <td>0.175935</td>\n",
       "      <td>29.347715</td>\n",
       "      <td>21.477315</td>\n",
       "      <td>3.884550</td>\n",
       "      <td>5.40000</td>\n",
       "      <td>1</td>\n",
       "    </tr>\n",
       "  </tbody>\n",
       "</table>\n",
       "</div>"
      ],
      "text/plain": [
       "         Date  Precipitation_max  RelativeHumidity_max  SoilWaterContent_max  \\\n",
       "0  2005-01-04          22.842566             90.332771              0.444927   \n",
       "1  2005-01-05           7.657155             88.623436              0.442955   \n",
       "2  2005-01-06          27.616505             92.850960              0.431879   \n",
       "3  2005-01-07           3.839235             79.103134              0.418513   \n",
       "4  2005-01-08           2.866673             83.001541              0.413370   \n",
       "\n",
       "   SolarRadiation_max  Temperature_max  WindSpeed_max  Precipitation_mean  \\\n",
       "0           33.214062        28.945488       7.364222            2.808620   \n",
       "1           33.554867        29.510120       7.091141            0.157935   \n",
       "2           34.075787        26.982698       9.905821            0.434833   \n",
       "3           34.019218        24.752069      10.446799            0.064224   \n",
       "4           33.265091        26.472469       6.671862            0.203352   \n",
       "\n",
       "   RelativeHumidity_mean  SoilWaterContent_mean  SolarRadiation_mean  \\\n",
       "0              57.095628               0.214293            22.617291   \n",
       "1              47.170735               0.203951            28.076835   \n",
       "2              39.874638               0.193668            30.561703   \n",
       "3              39.279410               0.183778            32.143718   \n",
       "4              42.400824               0.175935            29.347715   \n",
       "\n",
       "   Temperature_mean  WindSpeed_mean  Estimated_fire_area  Month  \n",
       "0         23.055527        4.841764              8.68000      1  \n",
       "1         22.425765        4.014080             16.61125      1  \n",
       "2         20.621405        4.477879              5.52000      1  \n",
       "3         19.632722        4.017578              6.26400      1  \n",
       "4         21.477315        3.884550              5.40000      1  "
      ]
     },
     "execution_count": 3,
     "metadata": {},
     "output_type": "execute_result"
    }
   ],
   "source": [
    "nsw = pd.read_csv(\"../data/regions/NSW.csv\").dropna()\n",
    "nsw[\"Month\"] = [date.month for date in pd.to_datetime(nsw[\"Date\"])]\n",
    "\n",
    "nsw.head()"
   ]
  },
  {
   "cell_type": "code",
   "execution_count": 76,
   "metadata": {},
   "outputs": [],
   "source": [
    "import xgboost as xgb\n",
    "from sklearn.metrics import mean_squared_error, r2_score\n",
    "from sklearn.model_selection import train_test_split\n",
    "from sklearn.impute import SimpleImputer\n",
    "from sklearn.preprocessing import StandardScaler\n",
    "from sklearn.base import TransformerMixin\n",
    "from sklearn.pipeline import Pipeline\n",
    "from sklearn.svm import SVR\n",
    "from scipy import stats"
   ]
  },
  {
   "cell_type": "code",
   "execution_count": 68,
   "metadata": {},
   "outputs": [],
   "source": [
    "X, y = nsw.drop([\"Estimated_fire_area\", \"Date\"], axis = 1), nsw[\"Estimated_fire_area\"]\n",
    "X_train, X_test, y_train, y_test = train_test_split(X, y, test_size = 0.2, random_state = 101)"
   ]
  },
  {
   "cell_type": "code",
   "execution_count": 69,
   "metadata": {},
   "outputs": [],
   "source": [
    "class FireTransform(TransformerMixin):\n",
    "    def fit(self, df, y = None):\n",
    "        self.months = list(set(df[\"Month\"]))\n",
    "        return self\n",
    "    def transform(self, ori):\n",
    "        df = ori.copy()\n",
    "        for month in self.months:\n",
    "            df[f\"Month_{month}\"] = (ori[\"Month\"] == month).astype(int)\n",
    "        df = df.drop(\"Month\", axis = 1)\n",
    "        return df\n",
    "\n",
    "pipeline = Pipeline([\n",
    "    (\"transform\", FireTransform()),\n",
    "    (\"model\", xgb.XGBRegressor())\n",
    "])"
   ]
  },
  {
   "cell_type": "code",
   "execution_count": 70,
   "metadata": {},
   "outputs": [
    {
     "name": "stdout",
     "output_type": "stream",
     "text": [
      "RMSE: 189.238899\n",
      "RSQ: 0.395606\n"
     ]
    }
   ],
   "source": [
    "pipeline.fit(X_train, y_train)\n",
    "preds = pipeline.predict(X_test)\n",
    "\n",
    "rmse = np.sqrt(mean_squared_error(y_test, preds))\n",
    "print(\"RMSE: %f\" % (rmse))\n",
    "rsq = r2_score(y_test, preds)\n",
    "print(\"RSQ: %f\" % (rsq))"
   ]
  },
  {
   "cell_type": "code",
   "execution_count": 77,
   "metadata": {},
   "outputs": [],
   "source": [
    "pipeline = Pipeline([\n",
    "    (\"transform\", FireTransform()),\n",
    "    (\"model\", SVR())\n",
    "])"
   ]
  },
  {
   "cell_type": "code",
   "execution_count": 78,
   "metadata": {},
   "outputs": [
    {
     "name": "stdout",
     "output_type": "stream",
     "text": [
      "RMSE: 245.662690\n",
      "RSQ: -0.018539\n"
     ]
    }
   ],
   "source": [
    "pipeline.fit(X_train, y_train)\n",
    "preds = pipeline.predict(X_test)\n",
    "\n",
    "rmse = np.sqrt(mean_squared_error(y_test, preds))\n",
    "print(\"RMSE: %f\" % (rmse))\n",
    "rsq = r2_score(y_test, preds)\n",
    "print(\"RSQ: %f\" % (rsq))"
   ]
  },
  {
   "cell_type": "code",
   "execution_count": null,
   "metadata": {},
   "outputs": [],
   "source": []
  },
  {
   "cell_type": "code",
   "execution_count": null,
   "metadata": {},
   "outputs": [],
   "source": []
  }
 ],
 "metadata": {
  "kernelspec": {
   "display_name": "Python 3",
   "language": "python",
   "name": "python3"
  },
  "language_info": {
   "codemirror_mode": {
    "name": "ipython",
    "version": 3
   },
   "file_extension": ".py",
   "mimetype": "text/x-python",
   "name": "python",
   "nbconvert_exporter": "python",
   "pygments_lexer": "ipython3",
   "version": "3.8.1"
  }
 },
 "nbformat": 4,
 "nbformat_minor": 4
}
